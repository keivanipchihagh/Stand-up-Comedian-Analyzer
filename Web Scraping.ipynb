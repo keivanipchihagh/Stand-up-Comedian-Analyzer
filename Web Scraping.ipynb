{
 "cells": [
  {
   "cell_type": "markdown",
   "id": "beautiful-distribution",
   "metadata": {},
   "source": [
    "# Web Scraping"
   ]
  },
  {
   "cell_type": "markdown",
   "id": "incident-edwards",
   "metadata": {},
   "source": [
    "In this section we aquire the data needed for the analysis with ***BeautifulSoup*** and ***requests***, later save the data with ***pickle*** for future use.\n",
    "\n",
    "Full list of all stand-ups can be found [Here](https://scrapsfromtheloft.com/stand-up-comedy-scripts/)."
   ]
  },
  {
   "cell_type": "code",
   "execution_count": 45,
   "id": "received-immigration",
   "metadata": {},
   "outputs": [],
   "source": [
    "# Transcripts URLs\n",
    "urls = [\n",
    "    'https://scrapsfromtheloft.com/2017/05/06/louis-ck-oh-my-god-full-transcript/',\n",
    "    'https://scrapsfromtheloft.com/2017/04/11/dave-chappelle-age-spin-2017-full-transcript/',\n",
    "    'https://scrapsfromtheloft.com/2018/03/15/ricky-gervais-humanity-transcript/',\n",
    "    'https://scrapsfromtheloft.com/2017/08/07/bo-burnham-2013-full-transcript/',\n",
    "    'https://scrapsfromtheloft.com/2017/05/24/bill-burr-im-sorry-feel-way-2014-full-transcript/',\n",
    "    'https://scrapsfromtheloft.com/2017/04/21/jim-jefferies-bare-2014-full-transcript/',\n",
    "    'https://scrapsfromtheloft.com/2017/08/02/john-mulaney-comeback-kid-2015-full-transcript/',\n",
    "    'https://scrapsfromtheloft.com/2017/10/21/hasan-minhaj-homecoming-king-2017-full-transcript/',\n",
    "    'https://scrapsfromtheloft.com/2017/09/19/ali-wong-baby-cobra-2016-full-transcript/',\n",
    "    'https://scrapsfromtheloft.com/2017/08/03/anthony-jeselnik-thoughts-prayers-2015-full-transcript/',\n",
    "    'https://scrapsfromtheloft.com/2018/03/03/mike-birbiglia-my-girlfriends-boyfriend-2013-full-transcript/',\n",
    "    'https://scrapsfromtheloft.com/2017/08/19/joe-rogan-triggered-2016-full-transcript/'\n",
    "    ]"
   ]
  },
  {
   "cell_type": "markdown",
   "id": "suitable-balloon",
   "metadata": {},
   "source": [
    "## Aquire the Data"
   ]
  },
  {
   "cell_type": "code",
   "execution_count": 49,
   "id": "korean-eclipse",
   "metadata": {
    "scrolled": true
   },
   "outputs": [
    {
     "name": "stdout",
     "output_type": "stream",
     "text": [
      "Got contents for \"https://scrapsfromtheloft.com/2017/05/06/louis-ck-oh-my-god-full-transcript/\"\n",
      "Got contents for \"https://scrapsfromtheloft.com/2017/04/11/dave-chappelle-age-spin-2017-full-transcript/\"\n",
      "Got contents for \"https://scrapsfromtheloft.com/2018/03/15/ricky-gervais-humanity-transcript/\"\n",
      "Got contents for \"https://scrapsfromtheloft.com/2017/08/07/bo-burnham-2013-full-transcript/\"\n",
      "Got contents for \"https://scrapsfromtheloft.com/2017/05/24/bill-burr-im-sorry-feel-way-2014-full-transcript/\"\n",
      "Got contents for \"https://scrapsfromtheloft.com/2017/04/21/jim-jefferies-bare-2014-full-transcript/\"\n",
      "Got contents for \"https://scrapsfromtheloft.com/2017/08/02/john-mulaney-comeback-kid-2015-full-transcript/\"\n",
      "Got contents for \"https://scrapsfromtheloft.com/2017/10/21/hasan-minhaj-homecoming-king-2017-full-transcript/\"\n",
      "Got contents for \"https://scrapsfromtheloft.com/2017/09/19/ali-wong-baby-cobra-2016-full-transcript/\"\n",
      "Got contents for \"https://scrapsfromtheloft.com/2017/08/03/anthony-jeselnik-thoughts-prayers-2015-full-transcript/\"\n",
      "Got contents for \"https://scrapsfromtheloft.com/2018/03/03/mike-birbiglia-my-girlfriends-boyfriend-2013-full-transcript/\"\n",
      "Got contents for \"https://scrapsfromtheloft.com/2017/08/19/joe-rogan-triggered-2016-full-transcript/\"\n",
      "Scraping completed.\n"
     ]
    }
   ],
   "source": [
    "# Imports\n",
    "from bs4 import BeautifulSoup\n",
    "import requests\n",
    "\n",
    "def get_transcript(url):\n",
    "    ''' Get paragraph contents of the URL in the spesified Div element'''\n",
    "    \n",
    "    page = requests.get(url).text\n",
    "    soup = BeautifulSoup(page, \"lxml\")\n",
    "    texts = [p.text for p in soup.find(class_ = 'elementor-widget-theme-post-content').find_all('p')]\n",
    "    \n",
    "    print('Got contents for \"{0}\"'.format(url))\n",
    "    return texts\n",
    "\n",
    "# Get transcrpts for all the URLs\n",
    "transcripts = [get_transcript(url) for url in urls]\n",
    "print('Scraping completed.')\n",
    "\n",
    "names = [\n",
    "    'Lousic C.K.',\n",
    "    'Dave Chappelle',\n",
    "    'Ricky Gervais',\n",
    "    'Bo Burham',\n",
    "    'Bill Burr',\n",
    "    'Jim Jefferies',\n",
    "    'John Mulaney',\n",
    "    'Hasan Minhaj',\n",
    "    'Ali Wong',\n",
    "    'Anthony Jeselnik',\n",
    "    'Mike Birbiglia',\n",
    "    'Joe Rogan'\n",
    "]"
   ]
  },
  {
   "cell_type": "markdown",
   "id": "developing-match",
   "metadata": {},
   "source": [
    "## Save the Data (Pickle)"
   ]
  },
  {
   "cell_type": "code",
   "execution_count": 60,
   "id": "compound-approval",
   "metadata": {},
   "outputs": [],
   "source": [
    "# Imports\n",
    "import pickle\n",
    "\n",
    "all_data = dict(zip(names, transcripts))\n",
    "\n",
    "with open('saves/transcripts_data.json', 'wb') as file:\n",
    "    pickle.dump(all_data, file)"
   ]
  }
 ],
 "metadata": {
  "kernelspec": {
   "display_name": "Python 3",
   "language": "python",
   "name": "python3"
  },
  "language_info": {
   "codemirror_mode": {
    "name": "ipython",
    "version": 3
   },
   "file_extension": ".py",
   "mimetype": "text/x-python",
   "name": "python",
   "nbconvert_exporter": "python",
   "pygments_lexer": "ipython3",
   "version": "3.8.7"
  },
  "toc-autonumbering": true
 },
 "nbformat": 4,
 "nbformat_minor": 5
}
